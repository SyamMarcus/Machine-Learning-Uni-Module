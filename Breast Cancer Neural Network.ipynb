{
 "cells": [
  {
   "cell_type": "code",
   "execution_count": 1,
   "metadata": {},
   "outputs": [],
   "source": [
    "# Importing libraries\n",
    "import numpy as np\n",
    "import pandas as pd"
   ]
  },
  {
   "cell_type": "code",
   "execution_count": 2,
   "metadata": {},
   "outputs": [],
   "source": [
    "# Loading Files\n",
    "df = pd.read_csv(\"/home/shaun/Desktop/Work/Sem1/6006CEM_ML/CW/Datasets/BreastCancer.csv\") "
   ]
  },
  {
   "cell_type": "code",
   "execution_count": 3,
   "metadata": {},
   "outputs": [],
   "source": [
    "# Pre-process the dataset\n",
    "df.drop(['id','Unnamed: 32'], axis=1, inplace=True)  # Removing columns of which hold uneccecary or null data\n",
    "diagnosis=pd.get_dummies(df['diagnosis'],drop_first=True) # From this column, we create a seperate column to represent the data with 1 and 0\n",
    "df = pd.concat([df,diagnosis], axis=1)  # Add the new diagnosis collumn to the end of the dataset and remove the old column\n",
    "df.drop(['diagnosis'], axis=1, inplace=True) \n",
    "#df.info()"
   ]
  },
  {
   "cell_type": "code",
   "execution_count": 4,
   "metadata": {},
   "outputs": [],
   "source": [
    "# Setting values for X and y\n",
    "X = df.iloc[:,:-1].values  # set the x values to the first 30 collumns\n",
    "y = df.iloc[:,-1:].values  # set the y values to the last collumn only\n",
    "#print(X.shape)"
   ]
  },
  {
   "cell_type": "code",
   "execution_count": 5,
   "metadata": {},
   "outputs": [],
   "source": [
    "# Split the data for training and testing\n",
    "from sklearn.model_selection import train_test_split\n",
    "X_train, X_test, y_train, y_test = train_test_split(X,y, test_size = 0.25, random_state = 0)\n",
    "# Scale the data\n",
    "from sklearn.preprocessing import StandardScaler\n",
    "sc = StandardScaler()\n",
    "X_train_scaled = sc.fit_transform(X_train)\n",
    "X_test_scaled = sc.fit_transform(X_test)"
   ]
  },
  {
   "cell_type": "code",
   "execution_count": 6,
   "metadata": {},
   "outputs": [
    {
     "name": "stderr",
     "output_type": "stream",
     "text": [
      "/home/shaun/anaconda3/lib/python3.8/site-packages/sklearn/utils/validation.py:73: DataConversionWarning: A column-vector y was passed when a 1d array was expected. Please change the shape of y to (n_samples, ), for example using ravel().\n",
      "  return f(**kwargs)\n"
     ]
    },
    {
     "data": {
      "text/plain": [
       "MLPClassifier(max_iter=10000)"
      ]
     },
     "execution_count": 6,
     "metadata": {},
     "output_type": "execute_result"
    }
   ],
   "source": [
    "# Apply the Neural Netwrok learning model and train it\n",
    "from sklearn.neural_network import MLPClassifier\n",
    "model = MLPClassifier(max_iter=10000)\n",
    "model.fit(X_train_scaled,y_train)"
   ]
  },
  {
   "cell_type": "code",
   "execution_count": 7,
   "metadata": {},
   "outputs": [],
   "source": [
    "# Get predictions\n",
    "y_train_pred = model.predict(X_train_scaled)  # compare the training data with the test data\n",
    "y_test_pred = model.predict(X_test_scaled)"
   ]
  },
  {
   "cell_type": "code",
   "execution_count": 8,
   "metadata": {},
   "outputs": [
    {
     "name": "stdout",
     "output_type": "stream",
     "text": [
      "Train score = 0.998\n",
      "Test score = 0.944\n",
      "              precision    recall  f1-score   support\n",
      "\n",
      "   Malignant       0.97      0.94      0.96        90\n",
      "      benign       0.91      0.94      0.93        53\n",
      "\n",
      "    accuracy                           0.94       143\n",
      "   macro avg       0.94      0.94      0.94       143\n",
      "weighted avg       0.94      0.94      0.94       143\n",
      "\n"
     ]
    }
   ],
   "source": [
    "# Evaluate the model\n",
    "print(\"Train score = {:0.3f}\".format(model.score(X_train_scaled, y_train)))\n",
    "print(\"Test score = {:0.3f}\".format(model.score(X_test_scaled, y_test)))\n",
    "\n",
    "from sklearn.metrics import classification_report\n",
    "target_names = ['Malignant','benign']\n",
    "print(classification_report(y_test,y_test_pred, target_names=target_names))"
   ]
  },
  {
   "cell_type": "code",
   "execution_count": 9,
   "metadata": {},
   "outputs": [
    {
     "data": {
      "image/png": "[encoded data removed]",
      "text/plain": [
       "<Figure size 432x288 with 2 Axes>"
      ]
     },
     "metadata": {
      "needs_background": "light"
     },
     "output_type": "display_data"
    },
    {
     "data": {
      "image/png": "[encoded data removed]",
      "text/plain": [
       "<Figure size 432x288 with 2 Axes>"
      ]
     },
     "metadata": {
      "needs_background": "light"
     },
     "output_type": "display_data"
    }
   ],
   "source": [
    "# Plot confusion matricies\n",
    "from sklearn.metrics import plot_confusion_matrix\n",
    "import matplotlib.pyplot as plt\n",
    "\n",
    "titles_options = [('Confusion Matrix', None),\n",
    "                 ('Normalized Confusion Matrix', 'true')]\n",
    "\n",
    "for title, normalize in titles_options:\n",
    "    disp = plot_confusion_matrix(model, X_test_scaled, y_test,\n",
    "                                display_labels=['Malignant', 'benign'],\n",
    "                                cmap=plt.cm.Purples,\n",
    "                                normalize=normalize)\n",
    "    disp.ax_.set_title(title) \n",
    "    #print(title)\n",
    "    #print(disp.confusion_matrix)\n",
    "    \n",
    "plt.show()"
   ]
  }
 ],
 "metadata": {
  "kernelspec": {
   "display_name": "Python 3",
   "language": "python",
   "name": "python3"
  },
  "language_info": {
   "codemirror_mode": {
    "name": "ipython",
    "version": 3
   },
   "file_extension": ".py",
   "mimetype": "text/x-python",
   "name": "python",
   "nbconvert_exporter": "python",
   "pygments_lexer": "ipython3",
   "version": "3.8.3"
  }
 },
 "nbformat": 4,
 "nbformat_minor": 4
}
